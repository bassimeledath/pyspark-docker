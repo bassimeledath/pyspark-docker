{
 "cells": [
  {
   "cell_type": "markdown",
   "metadata": {},
   "source": [
    "## Note :  You don't need to understand the syntax for now."
   ]
  },
  {
   "cell_type": "code",
   "execution_count": 1,
   "metadata": {
    "ExecuteTime": {
     "end_time": "2021-10-21T23:36:47.739781Z",
     "start_time": "2021-10-21T23:36:43.955322Z"
    },
    "scrolled": true
   },
   "outputs": [
    {
     "name": "stderr",
     "output_type": "stream",
     "text": [
      "/usr/local/miniconda/lib/python3.11/site-packages/pyspark/bin/load-spark-env.sh: line 68: ps: command not found\n",
      "Setting default log level to \"WARN\".\n",
      "To adjust logging level use sc.setLogLevel(newLevel). For SparkR, use setLogLevel(newLevel).\n",
      "23/11/11 08:17:22 WARN NativeCodeLoader: Unable to load native-hadoop library for your platform... using builtin-java classes where applicable\n"
     ]
    }
   ],
   "source": [
    "import pyspark\n",
    "import os\n",
    "\n",
    "sc = pyspark.SparkContext(appName='e03').getOrCreate()"
   ]
  },
  {
   "cell_type": "code",
   "execution_count": 2,
   "metadata": {
    "ExecuteTime": {
     "end_time": "2021-10-21T23:36:48.498014Z",
     "start_time": "2021-10-21T23:36:48.485430Z"
    }
   },
   "outputs": [
    {
     "data": {
      "text/html": [
       "\n",
       "        <div>\n",
       "            <p><b>SparkContext</b></p>\n",
       "\n",
       "            <p><a href=\"http://6351e949748c:4040\">Spark UI</a></p>\n",
       "\n",
       "            <dl>\n",
       "              <dt>Version</dt>\n",
       "                <dd><code>v3.5.0</code></dd>\n",
       "              <dt>Master</dt>\n",
       "                <dd><code>local[*]</code></dd>\n",
       "              <dt>AppName</dt>\n",
       "                <dd><code>e03</code></dd>\n",
       "            </dl>\n",
       "        </div>\n",
       "        "
      ],
      "text/plain": [
       "<SparkContext master=local[*] appName=e03>"
      ]
     },
     "execution_count": 2,
     "metadata": {},
     "output_type": "execute_result"
    }
   ],
   "source": [
    "sc"
   ]
  },
  {
   "cell_type": "code",
   "execution_count": 3,
   "metadata": {
    "ExecuteTime": {
     "end_time": "2021-10-21T23:36:49.103372Z",
     "start_time": "2021-10-21T23:36:49.099062Z"
    }
   },
   "outputs": [
    {
     "data": {
      "text/plain": [
       "4"
      ]
     },
     "execution_count": 3,
     "metadata": {},
     "output_type": "execute_result"
    }
   ],
   "source": [
    "sc.defaultParallelism"
   ]
  },
  {
   "cell_type": "markdown",
   "metadata": {},
   "source": [
    "Load data to X partitions on your local machine where X is the number of cores on your machine.\n"
   ]
  },
  {
   "cell_type": "code",
   "execution_count": null,
   "metadata": {},
   "outputs": [],
   "source": [
    "from PIL import Image\n",
    "import matplotlib.pyplot as plt\n",
    "img = Image.open('../data/MacBook#CPUCores.png')\n",
    "plt.imshow(img)"
   ]
  },
  {
   "cell_type": "code",
   "execution_count": 4,
   "metadata": {
    "ExecuteTime": {
     "end_time": "2021-10-21T23:36:51.793225Z",
     "start_time": "2021-10-21T23:36:50.099193Z"
    }
   },
   "outputs": [
    {
     "name": "stdout",
     "output_type": "stream",
     "text": [
      "4\n"
     ]
    },
    {
     "name": "stderr",
     "output_type": "stream",
     "text": [
      "                                                                                \r"
     ]
    },
    {
     "data": {
      "text/plain": [
       "[['4',\n",
       "  '0',\n",
       "  '3',\n",
       "  '6',\n",
       "  '8',\n",
       "  '7',\n",
       "  '9',\n",
       "  '9',\n",
       "  '8',\n",
       "  '5',\n",
       "  '6',\n",
       "  '5',\n",
       "  '6',\n",
       "  '3',\n",
       "  '6',\n",
       "  '5',\n",
       "  '1',\n",
       "  '8',\n",
       "  '8',\n",
       "  '1',\n",
       "  '5',\n",
       "  '4',\n",
       "  '1',\n",
       "  '5',\n",
       "  '8',\n",
       "  '2'],\n",
       " ['6',\n",
       "  '8',\n",
       "  '8',\n",
       "  '3',\n",
       "  '9',\n",
       "  '9',\n",
       "  '0',\n",
       "  '7',\n",
       "  '3',\n",
       "  '6',\n",
       "  '0',\n",
       "  '6',\n",
       "  '0',\n",
       "  '5',\n",
       "  '9',\n",
       "  '0',\n",
       "  '9',\n",
       "  '5',\n",
       "  '9',\n",
       "  '2',\n",
       "  '5',\n",
       "  '4',\n",
       "  '8',\n",
       "  '6',\n",
       "  '8'],\n",
       " ['5',\n",
       "  '1',\n",
       "  '4',\n",
       "  '7',\n",
       "  '4',\n",
       "  '0',\n",
       "  '1',\n",
       "  '9',\n",
       "  '5',\n",
       "  '3',\n",
       "  '1',\n",
       "  '1',\n",
       "  '0',\n",
       "  '0',\n",
       "  '9',\n",
       "  '3',\n",
       "  '0',\n",
       "  '5',\n",
       "  '4',\n",
       "  '0',\n",
       "  '8',\n",
       "  '0',\n",
       "  '1',\n",
       "  '8',\n",
       "  '5'],\n",
       " ['7',\n",
       "  '2',\n",
       "  '1',\n",
       "  '9',\n",
       "  '3',\n",
       "  '4',\n",
       "  '2',\n",
       "  '0',\n",
       "  '2',\n",
       "  '8',\n",
       "  '1',\n",
       "  '0',\n",
       "  '0',\n",
       "  '8',\n",
       "  '4',\n",
       "  '1',\n",
       "  '0',\n",
       "  '0',\n",
       "  '7',\n",
       "  '3',\n",
       "  '8',\n",
       "  '3',\n",
       "  '7',\n",
       "  '3']]"
      ]
     },
     "execution_count": 4,
     "metadata": {},
     "output_type": "execute_result"
    }
   ],
   "source": [
    "rdd = sc.textFile(\"../data/numbers.txt\",4)  # Load data from the file.\n",
    "\n",
    "print(rdd.getNumPartitions())\n",
    "\n",
    "rdd.glom().collect()  # See my data on the computer."
   ]
  },
  {
   "cell_type": "markdown",
   "metadata": {},
   "source": [
    "Convert data to integer"
   ]
  },
  {
   "cell_type": "code",
   "execution_count": 5,
   "metadata": {
    "ExecuteTime": {
     "end_time": "2021-10-21T23:36:52.537009Z",
     "start_time": "2021-10-21T23:36:52.476468Z"
    }
   },
   "outputs": [
    {
     "name": "stderr",
     "output_type": "stream",
     "text": [
      "                                                                                \r"
     ]
    },
    {
     "data": {
      "text/plain": [
       "[[4,\n",
       "  0,\n",
       "  3,\n",
       "  6,\n",
       "  8,\n",
       "  7,\n",
       "  9,\n",
       "  9,\n",
       "  8,\n",
       "  5,\n",
       "  6,\n",
       "  5,\n",
       "  6,\n",
       "  3,\n",
       "  6,\n",
       "  5,\n",
       "  1,\n",
       "  8,\n",
       "  8,\n",
       "  1,\n",
       "  5,\n",
       "  4,\n",
       "  1,\n",
       "  5,\n",
       "  8,\n",
       "  2],\n",
       " [6, 8, 8, 3, 9, 9, 0, 7, 3, 6, 0, 6, 0, 5, 9, 0, 9, 5, 9, 2, 5, 4, 8, 6, 8],\n",
       " [5, 1, 4, 7, 4, 0, 1, 9, 5, 3, 1, 1, 0, 0, 9, 3, 0, 5, 4, 0, 8, 0, 1, 8, 5],\n",
       " [7, 2, 1, 9, 3, 4, 2, 0, 2, 8, 1, 0, 0, 8, 4, 1, 0, 0, 7, 3, 8, 3, 7, 3]]"
      ]
     },
     "execution_count": 5,
     "metadata": {},
     "output_type": "execute_result"
    }
   ],
   "source": [
    "converted_rdd = rdd.map(lambda x: int(x))\n",
    "converted_rdd.glom()\n",
    "converted_rdd.glom().collect()"
   ]
  },
  {
   "cell_type": "markdown",
   "metadata": {},
   "source": [
    " Filter data which value is greater than / equal to 8"
   ]
  },
  {
   "cell_type": "code",
   "execution_count": 6,
   "metadata": {
    "ExecuteTime": {
     "end_time": "2021-10-21T23:36:53.695941Z",
     "start_time": "2021-10-21T23:36:53.626572Z"
    }
   },
   "outputs": [
    {
     "name": "stderr",
     "output_type": "stream",
     "text": [
      "\r",
      "[Stage 2:==============>                                            (1 + 3) / 4]\r",
      "\r",
      "                                                                                \r"
     ]
    },
    {
     "data": {
      "text/plain": [
       "[[8, 9, 9, 8, 8, 8, 8],\n",
       " [8, 8, 9, 9, 9, 9, 9, 8, 8],\n",
       " [9, 9, 8, 8],\n",
       " [9, 8, 8, 8]]"
      ]
     },
     "execution_count": 6,
     "metadata": {},
     "output_type": "execute_result"
    }
   ],
   "source": [
    "filtered_rdd = converted_rdd.filter(lambda x: x >= 8)\n",
    "filtered_rdd.glom().collect()"
   ]
  },
  {
   "cell_type": "markdown",
   "metadata": {},
   "source": [
    "Add values using reduce()"
   ]
  },
  {
   "cell_type": "code",
   "execution_count": null,
   "metadata": {
    "ExecuteTime": {
     "end_time": "2021-10-21T23:36:54.606868Z",
     "start_time": "2021-10-21T23:36:54.547468Z"
    }
   },
   "outputs": [],
   "source": [
    "filtered_rdd.reduce(lambda x, y: x+y)"
   ]
  },
  {
   "cell_type": "code",
   "execution_count": null,
   "metadata": {
    "ExecuteTime": {
     "end_time": "2021-10-21T23:36:56.219543Z",
     "start_time": "2021-10-21T23:36:55.901879Z"
    }
   },
   "outputs": [],
   "source": [
    "sc.stop()"
   ]
  }
 ],
 "metadata": {
  "kernelspec": {
   "display_name": "Python 3 (ipykernel)",
   "language": "python",
   "name": "python3"
  },
  "language_info": {
   "codemirror_mode": {
    "name": "ipython",
    "version": 3
   },
   "file_extension": ".py",
   "mimetype": "text/x-python",
   "name": "python",
   "nbconvert_exporter": "python",
   "pygments_lexer": "ipython3",
   "version": "3.11.5"
  },
  "varInspector": {
   "cols": {
    "lenName": 16,
    "lenType": 16,
    "lenVar": 40
   },
   "kernels_config": {
    "python": {
     "delete_cmd_postfix": "",
     "delete_cmd_prefix": "del ",
     "library": "var_list.py",
     "varRefreshCmd": "print(var_dic_list())"
    },
    "r": {
     "delete_cmd_postfix": ") ",
     "delete_cmd_prefix": "rm(",
     "library": "var_list.r",
     "varRefreshCmd": "cat(var_dic_list()) "
    }
   },
   "types_to_exclude": [
    "module",
    "function",
    "builtin_function_or_method",
    "instance",
    "_Feature"
   ],
   "window_display": false
  }
 },
 "nbformat": 4,
 "nbformat_minor": 4
}
